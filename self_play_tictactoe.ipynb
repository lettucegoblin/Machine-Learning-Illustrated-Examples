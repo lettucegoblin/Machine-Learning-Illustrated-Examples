{
 "cells": [
  {
   "cell_type": "code",
   "execution_count": 1,
   "metadata": {},
   "outputs": [
    {
     "name": "stdout",
     "output_type": "stream",
     "text": [
      "Requirement already satisfied: numpy in ./miniconda3/envs/llm/lib/python3.12/site-packages (1.26.4)\n",
      "Requirement already satisfied: ipywidgets in ./miniconda3/envs/llm/lib/python3.12/site-packages (8.1.2)\n",
      "Requirement already satisfied: comm>=0.1.3 in ./miniconda3/envs/llm/lib/python3.12/site-packages (from ipywidgets) (0.2.1)\n",
      "Requirement already satisfied: ipython>=6.1.0 in ./miniconda3/envs/llm/lib/python3.12/site-packages (from ipywidgets) (8.20.0)\n",
      "Requirement already satisfied: traitlets>=4.3.1 in ./miniconda3/envs/llm/lib/python3.12/site-packages (from ipywidgets) (5.7.1)\n",
      "Requirement already satisfied: widgetsnbextension~=4.0.10 in ./miniconda3/envs/llm/lib/python3.12/site-packages (from ipywidgets) (4.0.10)\n",
      "Requirement already satisfied: jupyterlab-widgets~=3.0.10 in ./miniconda3/envs/llm/lib/python3.12/site-packages (from ipywidgets) (3.0.10)\n",
      "Requirement already satisfied: decorator in ./miniconda3/envs/llm/lib/python3.12/site-packages (from ipython>=6.1.0->ipywidgets) (5.1.1)\n",
      "Requirement already satisfied: jedi>=0.16 in ./miniconda3/envs/llm/lib/python3.12/site-packages (from ipython>=6.1.0->ipywidgets) (0.18.1)\n",
      "Requirement already satisfied: matplotlib-inline in ./miniconda3/envs/llm/lib/python3.12/site-packages (from ipython>=6.1.0->ipywidgets) (0.1.6)\n",
      "Requirement already satisfied: prompt-toolkit<3.1.0,>=3.0.41 in ./miniconda3/envs/llm/lib/python3.12/site-packages (from ipython>=6.1.0->ipywidgets) (3.0.43)\n",
      "Requirement already satisfied: pygments>=2.4.0 in ./miniconda3/envs/llm/lib/python3.12/site-packages (from ipython>=6.1.0->ipywidgets) (2.15.1)\n",
      "Requirement already satisfied: stack-data in ./miniconda3/envs/llm/lib/python3.12/site-packages (from ipython>=6.1.0->ipywidgets) (0.2.0)\n",
      "Requirement already satisfied: pexpect>4.3 in ./miniconda3/envs/llm/lib/python3.12/site-packages (from ipython>=6.1.0->ipywidgets) (4.8.0)\n",
      "Requirement already satisfied: parso<0.9.0,>=0.8.0 in ./miniconda3/envs/llm/lib/python3.12/site-packages (from jedi>=0.16->ipython>=6.1.0->ipywidgets) (0.8.3)\n",
      "Requirement already satisfied: ptyprocess>=0.5 in ./miniconda3/envs/llm/lib/python3.12/site-packages (from pexpect>4.3->ipython>=6.1.0->ipywidgets) (0.7.0)\n",
      "Requirement already satisfied: wcwidth in ./miniconda3/envs/llm/lib/python3.12/site-packages (from prompt-toolkit<3.1.0,>=3.0.41->ipython>=6.1.0->ipywidgets) (0.2.5)\n",
      "Requirement already satisfied: executing in ./miniconda3/envs/llm/lib/python3.12/site-packages (from stack-data->ipython>=6.1.0->ipywidgets) (0.8.3)\n",
      "Requirement already satisfied: asttokens in ./miniconda3/envs/llm/lib/python3.12/site-packages (from stack-data->ipython>=6.1.0->ipywidgets) (2.0.5)\n",
      "Requirement already satisfied: pure-eval in ./miniconda3/envs/llm/lib/python3.12/site-packages (from stack-data->ipython>=6.1.0->ipywidgets) (0.2.2)\n",
      "Requirement already satisfied: six in ./miniconda3/envs/llm/lib/python3.12/site-packages (from asttokens->stack-data->ipython>=6.1.0->ipywidgets) (1.16.0)\n",
      "Note: you may need to restart the kernel to use updated packages.\n"
     ]
    }
   ],
   "source": [
    "%pip install numpy ipywidgets"
   ]
  },
  {
   "cell_type": "code",
   "execution_count": 1,
   "metadata": {},
   "outputs": [],
   "source": [
    "import numpy as np\n",
    "import ipywidgets as widgets \n",
    "import random"
   ]
  },
  {
   "cell_type": "code",
   "execution_count": 2,
   "metadata": {},
   "outputs": [],
   "source": [
    "class TicTacToe:\n",
    "    def __init__(self):\n",
    "        self.board = np.zeros((3, 3), dtype=int)  # 0: empty, 1: player 1, -1: player 2\n",
    "        self.current_player = 1  # Player 1 starts\n",
    "        self.game_over = False\n",
    "        self.winner = None\n",
    "\n",
    "    def reset(self):\n",
    "        self.board.fill(0)\n",
    "        self.current_player = 1\n",
    "        self.game_over = False\n",
    "        self.winner = None\n",
    "\n",
    "    def make_move(self, row, col):\n",
    "        if self.board[row, col] == 0 and not self.game_over:\n",
    "            self.board[row, col] = self.current_player\n",
    "            self.check_game_over(row, col)\n",
    "            self.current_player *= -1\n",
    "            return True\n",
    "        return False\n",
    "\n",
    "    def check_game_over(self, row, col):\n",
    "        # Check for win conditions: rows, columns, diagonals\n",
    "        if np.all(self.board[row, :] == self.current_player) or \\\n",
    "           np.all(self.board[:, col] == self.current_player) or \\\n",
    "           (row == col and np.all(np.diag(self.board) == self.current_player)) or \\\n",
    "           (row + col == 2 and np.all(np.diag(np.fliplr(self.board)) == self.current_player)):\n",
    "            self.game_over = True\n",
    "            self.winner = self.current_player\n",
    "        elif not np.any(self.board == 0):\n",
    "            self.game_over = True  # Draw\n",
    "\n",
    "    def available_moves(self):\n",
    "        return [(row, col) for row in range(3) for col in range(3) if self.board[row, col] == 0]"
   ]
  },
  {
   "cell_type": "code",
   "execution_count": 5,
   "metadata": {},
   "outputs": [],
   "source": [
    "class QLearningAgent:\n",
    "    def __init__(self, learning_rate=0.1, discount_factor=0.95, exploration_rate=1.0, exploration_decay=0.99):\n",
    "        self.q_table = {}  # Initialize Q-table with an empty dictionary\n",
    "        self.learning_rate = learning_rate\n",
    "        self.discount_factor = discount_factor\n",
    "        self.exploration_rate = exploration_rate\n",
    "        self.exploration_decay = exploration_decay\n",
    "\n",
    "    def get_q_values(self, state):\n",
    "        # Convert state to a tuple to use as a dictionary key\n",
    "        state_key = tuple(state.reshape(-1))\n",
    "        if state_key not in self.q_table:\n",
    "            self.q_table[state_key] = np.zeros(9)\n",
    "        return self.q_table[state_key]\n",
    "\n",
    "    def update_q_values(self, state, action, reward, next_state):\n",
    "        # Basic Q-learning formula to update Q-values\n",
    "        current_q = self.get_q_values(state)[action]\n",
    "        max_future_q = np.max(self.get_q_values(next_state))\n",
    "        new_q = (1 - self.learning_rate) * current_q + self.learning_rate * (reward + self.discount_factor * max_future_q)\n",
    "        self.q_table[tuple(state.reshape(-1))][action] = new_q\n",
    "\n",
    "    def choose_action(self, state, available_actions):\n",
    "        if random.uniform(0, 1) < self.exploration_rate:\n",
    "            return random.choice(available_actions)  # Explore\n",
    "        else:\n",
    "            q_values = self.get_q_values(state)\n",
    "            # Filter q_values by available actions\n",
    "            q_values_filtered = np.array([q_values[i] if i in available_actions else -np.inf for i in range(9)])\n",
    "            return np.argmax(q_values_filtered)  # Exploit\n",
    "\n",
    "    def decay_exploration(self):\n",
    "        self.exploration_rate *= self.exploration_decay\n",
    "\n",
    "# Simplified game loop with Q-learning (pseudocode)\n",
    "def train_q_learning(agent, num_episodes=1000):\n",
    "    for episode in range(num_episodes):\n",
    "        game = TicTacToe()\n",
    "        while not game.game_over:\n",
    "            state = game.board.copy()\n",
    "            available_actions = [i * 3 + j for i, j in game.available_moves()]\n",
    "            action = agent.choose_action(state, available_actions)\n",
    "            # Convert action to row, col\n",
    "            row, col = divmod(action, 3)\n",
    "            game.make_move(row, col)\n",
    "            next_state = game.board.copy()\n",
    "            reward = 1 if game.winner == game.current_player else -1 if game.winner is not None else 0\n",
    "            agent.update_q_values(state, action, reward, next_state)\n",
    "        agent.decay_exploration()"
   ]
  },
  {
   "cell_type": "code",
   "execution_count": 31,
   "metadata": {},
   "outputs": [],
   "source": [
    "# Initialize Q-learning agent and train\n",
    "agent = QLearningAgent()\n",
    "train_q_learning(agent)"
   ]
  },
  {
   "cell_type": "code",
   "execution_count": 6,
   "metadata": {},
   "outputs": [],
   "source": [
    "def choose_action_q_learning(game, available_actions):\n",
    "    state = game.board.copy()\n",
    "    action = agent.choose_action(state, available_actions)\n",
    "    row, col = divmod(action, 3)\n",
    "    #print board\n",
    "    print(f\"Board: {state}\")\n",
    "    print(f\"Q-learning agent chooses action: {row}, {col}\")\n",
    "    return row, col"
   ]
  }
 ],
 "metadata": {
  "kernelspec": {
   "display_name": "Python [conda env:llm]",
   "language": "python",
   "name": "conda-env-llm-py"
  },
  "language_info": {
   "codemirror_mode": {
    "name": "ipython",
    "version": 3
   },
   "file_extension": ".py",
   "mimetype": "text/x-python",
   "name": "python",
   "nbconvert_exporter": "python",
   "pygments_lexer": "ipython3",
   "version": "3.12.1"
  }
 },
 "nbformat": 4,
 "nbformat_minor": 2
}
